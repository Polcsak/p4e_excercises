{
 "cells": [
  {
   "attachments": {},
   "cell_type": "markdown",
   "metadata": {},
   "source": [
    "**What is API? (Application Programming Interface)**\n",
    "\n",
    "In simpler terms, an API acts as an intermediary between two applications, allowing them to communicate and exchange data with each other. For example, when you use a weather app on your phone, the app uses a weather API to retrieve data from a weather service provider, and then displays the current weather information on your screen.\n",
    "\n",
    "APIs can be classified into several types, including:\n",
    "\n",
    "-  Web APIs, which allow applications to communicate over the internet.\n",
    "-  Library APIs, which provide a way for developers to include functionality from a library in their own applications.\n",
    "-  Operating system APIs, which provide access to the functionality of an operating system."
   ]
  },
  {
   "cell_type": "code",
   "execution_count": 3,
   "metadata": {},
   "outputs": [
    {
     "name": "stdout",
     "output_type": "stream",
     "text": [
      "ut aspernatur corporis harum nihil quis provident sequi\n",
      "mollitia nobis aliquid molestiae\n",
      "perspiciatis et ea nemo ab reprehenderit accusantium quas\n",
      "voluptate dolores velit et doloremque molestiae\n"
     ]
    }
   ],
   "source": [
    "import requests\n",
    "\n",
    "# Make a GET request to the API endpoint\n",
    "response = requests.get(\"https://jsonplaceholder.typicode.com/posts\")\n",
    "\n",
    "# Check if the request was successful\n",
    "if response.status_code == 200:\n",
    "    # Get the JSON data from the response\n",
    "    data = response.json()\n",
    "\n",
    "    # Print the first post title\n",
    "    print(data[5][\"body\"])\n",
    "else:\n",
    "    # Print an error message if the request was not successful\n",
    "    print(\"Failed to retrieve data from the API\")"
   ]
  },
  {
   "cell_type": "markdown",
   "metadata": {},
   "source": []
  }
 ],
 "metadata": {
  "kernelspec": {
   "display_name": "base",
   "language": "python",
   "name": "python3"
  },
  "language_info": {
   "codemirror_mode": {
    "name": "ipython",
    "version": 3
   },
   "file_extension": ".py",
   "mimetype": "text/x-python",
   "name": "python",
   "nbconvert_exporter": "python",
   "pygments_lexer": "ipython3",
   "version": "3.9.16"
  },
  "orig_nbformat": 4,
  "vscode": {
   "interpreter": {
    "hash": "0d23164dccc46cd58776d6c42b6e08520d8e560835c24fb22e35df0b0152d5ce"
   }
  }
 },
 "nbformat": 4,
 "nbformat_minor": 2
}
