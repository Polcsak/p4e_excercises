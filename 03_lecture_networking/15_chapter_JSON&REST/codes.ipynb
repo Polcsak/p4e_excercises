{
 "cells": [
  {
   "cell_type": "code",
   "execution_count": null,
   "metadata": {},
   "outputs": [],
   "source": []
  }
 ],
 "metadata": {
  "kernelspec": {
   "display_name": "base",
   "language": "python",
   "name": "python3"
  },
  "language_info": {
   "name": "python",
   "version": "3.9.16"
  },
  "orig_nbformat": 4,
  "vscode": {
   "interpreter": {
    "hash": "0d23164dccc46cd58776d6c42b6e08520d8e560835c24fb22e35df0b0152d5ce"
   }
  }
 },
 "nbformat": 4,
 "nbformat_minor": 2
}
