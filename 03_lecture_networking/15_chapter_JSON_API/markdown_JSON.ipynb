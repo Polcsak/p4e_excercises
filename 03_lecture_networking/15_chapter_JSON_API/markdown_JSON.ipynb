{
 "cells": [
  {
   "attachments": {},
   "cell_type": "markdown",
   "metadata": {},
   "source": [
    "**JSON (JavaScript Object Notation)**\n",
    " is a lightweight data interchange format that is easy for humans to read and write and easy for machines to parse and generate. It is based on a subset of the JavaScript programming language and is used to transmit data between a server and a web application or between different systems and applications.\n",
    "\n",
    "A JSON object is an unordered set of key/value pairs, and it is represented using curly braces {}. The keys must be strings, and the values can be any of the following data types: strings, numbers, objects, arrays, booleans, and null."
   ]
  },
  {
   "cell_type": "code",
   "execution_count": 1,
   "metadata": {},
   "outputs": [
    {
     "name": "stdout",
     "output_type": "stream",
     "text": [
      "[{\"name\": \"John Doe\", \"age\": 35, \"isMarried\": true, \"hobbies\": [\"reading\", \"traveling\", \"swimming\"], \"address\": {\"street\": \"123 Main St\", \"city\": \"Anytown\", \"state\": \"Anystate\"}}, {\"name\": \"Jane Doe\", \"age\": 32, \"isMarried\": false, \"hobbies\": [\"painting\", \"singing\", \"dancing\"], \"address\": {\"street\": \"456 Oak Ave\", \"city\": \"Anycity\", \"state\": \"Anystate\"}}]\n"
     ]
    }
   ],
   "source": [
    "import json\n",
    "\n",
    "# A list of dictionaries representing multiple JSON objects\n",
    "data = [\n",
    "  {\n",
    "    \"name\": \"John Doe\",\n",
    "    \"age\": 35,\n",
    "    \"isMarried\": True,\n",
    "    \"hobbies\": [\"reading\", \"traveling\", \"swimming\"],\n",
    "    \"address\": {\n",
    "      \"street\": \"123 Main St\",\n",
    "      \"city\": \"Anytown\",\n",
    "      \"state\": \"Anystate\"\n",
    "    }\n",
    "  },\n",
    "  {\n",
    "    \"name\": \"Jane Doe\",\n",
    "    \"age\": 32,\n",
    "    \"isMarried\": False,\n",
    "    \"hobbies\": [\"painting\", \"singing\", \"dancing\"],\n",
    "    \"address\": {\n",
    "      \"street\": \"456 Oak Ave\",\n",
    "      \"city\": \"Anycity\",\n",
    "      \"state\": \"Anystate\"\n",
    "    }\n",
    "  }\n",
    "]\n",
    "\n",
    "# Converting the list of dictionaries to a JSON string\n",
    "json_data = json.dumps(data)\n",
    "print(json_data)\n"
   ]
  },
  {
   "attachments": {},
   "cell_type": "markdown",
   "metadata": {},
   "source": [
    "In the example above, *name, age, isMarried, and hobbies are keys*, and the values for these keys are *strings, numbers, booleans, and an array, respectively*. The value of the address key is another JSON object, which has its own set of keys and values.\n",
    "\n",
    "JSON is widely used as a format for transmitting data between a server and a web application or between different systems and applications, due to its ease of use, flexibility, and support in many programming languages."
   ]
  },
  {
   "attachments": {},
   "cell_type": "markdown",
   "metadata": {},
   "source": [
    "In Python, a JSON object can be represented as **a list of dictionaries**, where each dictionary represents a single JSON object. Each key in the dictionary represents a property in the JSON object, and the value associated with that key is the value of that property."
   ]
  }
 ],
 "metadata": {
  "kernelspec": {
   "display_name": "base",
   "language": "python",
   "name": "python3"
  },
  "language_info": {
   "codemirror_mode": {
    "name": "ipython",
    "version": 3
   },
   "file_extension": ".py",
   "mimetype": "text/x-python",
   "name": "python",
   "nbconvert_exporter": "python",
   "pygments_lexer": "ipython3",
   "version": "3.9.16"
  },
  "orig_nbformat": 4,
  "vscode": {
   "interpreter": {
    "hash": "0d23164dccc46cd58776d6c42b6e08520d8e560835c24fb22e35df0b0152d5ce"
   }
  }
 },
 "nbformat": 4,
 "nbformat_minor": 2
}
