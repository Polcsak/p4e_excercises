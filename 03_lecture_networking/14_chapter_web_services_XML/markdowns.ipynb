{
 "cells": [
  {
   "attachments": {},
   "cell_type": "markdown",
   "metadata": {},
   "source": [
    "**Java HashMap is similar to a Python dictionary**\n",
    "\n",
    "Both provide a way to store and retrieve key-value pairs, where each key is unique and maps to a specific value. The main difference is the syntax for using them."
   ]
  },
  {
   "attachments": {},
   "cell_type": "markdown",
   "metadata": {},
   "source": [
    "## XML - wire format - What it is?\n",
    "\n",
    "Both XML and JSON are used by computers to exchange information between different programs and websites. They help computers understand what the data means and how it should be organized. It's like a common language that computers can use to talk to each other!\n",
    "\n",
    "python dictionary -> (serialize) -> send over the internet -> (de-serialize) -> Java\n",
    "\n",
    "Serialization formats - **XML and JSON**\n",
    "\n",
    "**XML** stands for eXtensible Markup Language. Think of it like a label or tag that you put on something to describe what it is. For example, you might put a tag that says \"Name\" on a box to label what's inside. In XML, you can also put labels inside of labels to organize information.\n",
    "\n",
    "**JSON** stands for JavaScript Object Notation. It's similar to XML, but instead of using tags and labels, it uses something called keys and values. Keys are like labels, and values are the information that goes with each key. For example, you might have a key that says \"Name\" and a value that says \"John\"."
   ]
  },
  {
   "attachments": {},
   "cell_type": "markdown",
   "metadata": {},
   "source": [
    "## Format XML (Extensible markup language)\n",
    "\n",
    "XML (Extensible Markup Language) is a way to store and organize data in a computer. It's like a label or tag that you put on information to describe what it is. Think of it like labeling your clothes so you know what's in your closet.\n",
    "\n",
    "In XML, you use tags to describe the different parts of your data. For example, you might have a tag called <name> to describe a person's name, and another tag called <age> to describe their age. The tags help computers understand what the data means and how it should be organized.\n",
    "\n",
    "Here's an example of what XML data might look like:"
   ]
  },
  {
   "cell_type": "code",
   "execution_count": 1,
   "metadata": {},
   "outputs": [
    {
     "name": "stdout",
     "output_type": "stream",
     "text": [
      "name John Doe\n",
      "age 30\n",
      "address \n",
      "    \n"
     ]
    }
   ],
   "source": [
    "# Here is an example of how you can extract information from XML data using Python in a Jupyter Notebook:\n",
    "\n",
    "import xml.etree.ElementTree as ET\n",
    "\n",
    "xml_data = \"\"\"\n",
    "<person>\n",
    "  <name>John Doe</name>\n",
    "  <age>30</age>\n",
    "  <address>\n",
    "    <street>123 Main St</street>\n",
    "    <city>New York</city>\n",
    "  </address>\n",
    "</person>\n",
    "\"\"\"\n",
    "\n",
    "root = ET.fromstring(xml_data)\n",
    "\n",
    "for child in root:\n",
    "    print(child.tag, child.text)"
   ]
  },
  {
   "attachments": {},
   "cell_type": "markdown",
   "metadata": {},
   "source": [
    "## What is difference between HTML & XML?\n",
    "\n",
    "In summary, HTML is used for presenting and displaying data in a web browser, while XML is used for storing and exchanging data between different systems."
   ]
  },
  {
   "attachments": {},
   "cell_type": "markdown",
   "metadata": {},
   "source": [
    "**XML schema contract works together with XML document! -> need validation**\n",
    "\n",
    "Most used XML schema is XML schema from W3C - (XSD) -> **XSD XML Schema**"
   ]
  },
  {
   "cell_type": "code",
   "execution_count": null,
   "metadata": {},
   "outputs": [],
   "source": [
    "#XSD structure\n",
    "\n",
    "import xml.etree.ElementTree as ET\n",
    "\n",
    "xml_data = \"\"\"\n",
    "<xs.complexType name=\"person\">\n",
    " <xs:sequence>\n",
    "  <xs:element name=\"lastname\" type=\"xs:string\"/>\n",
    "  <xs:element name=\"age\" type=\"xs:integer\"/>\n",
    " <xs:sequence>\n",
    "<xs.complexType>"
   ]
  }
 ],
 "metadata": {
  "kernelspec": {
   "display_name": "base",
   "language": "python",
   "name": "python3"
  },
  "language_info": {
   "codemirror_mode": {
    "name": "ipython",
    "version": 3
   },
   "file_extension": ".py",
   "mimetype": "text/x-python",
   "name": "python",
   "nbconvert_exporter": "python",
   "pygments_lexer": "ipython3",
   "version": "3.9.16"
  },
  "orig_nbformat": 4,
  "vscode": {
   "interpreter": {
    "hash": "0d23164dccc46cd58776d6c42b6e08520d8e560835c24fb22e35df0b0152d5ce"
   }
  }
 },
 "nbformat": 4,
 "nbformat_minor": 2
}
