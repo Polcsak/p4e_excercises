{
 "cells": [
  {
   "cell_type": "code",
   "execution_count": 1,
   "metadata": {},
   "outputs": [
    {
     "name": "stdout",
     "output_type": "stream",
     "text": [
      "['2', '19', '42']\n"
     ]
    }
   ],
   "source": [
    "# square brackets\n",
    "\n",
    "import re\n",
    "x = 'My 2 favorite numbers are 19 and 42'\n",
    "y = re.findall('[0-9]+' ,x)\n",
    "print(y)"
   ]
  },
  {
   "cell_type": "code",
   "execution_count": 35,
   "metadata": {},
   "outputs": [
    {
     "name": "stdout",
     "output_type": "stream",
     "text": [
      "['29.744']\n",
      "['From: Using the :']\n",
      "['stephen.marquard@uct.ac.za']\n"
     ]
    }
   ],
   "source": [
    "import re\n",
    "\n",
    "x = '29.744uztu'\n",
    "y = re.findall('[0-9.]+', x)\n",
    "print(y)\n",
    "\n",
    "x = 'From: Using the : character'\n",
    "y = re.findall('^F.+:', x)\n",
    "print(y)\n",
    "\n",
    "x = 'From stephen.marquard@uct.ac.za Sat Jan  5 09:14:16 2008'\n",
    "y = re.findall('/S+?@/S+', x)\n",
    "print(y)\n",
    "\n"
   ]
  },
  {
   "cell_type": "code",
   "execution_count": 8,
   "metadata": {},
   "outputs": [
    {
     "name": "stdout",
     "output_type": "stream",
     "text": [
      "['From: Using the:']\n"
     ]
    }
   ],
   "source": [
    "# Greedy matching\n",
    "\n",
    "# ^F -- začinať Fkom\n",
    "# \".\" -- hociaký výraz za \"F\"\n",
    "# \"+\" -- 1 a viac výrazov za \"F\"\n",
    "# \":\" -- konči dvojbodkov!\n",
    "\n",
    "import re\n",
    "\n",
    "x = 'From: Using the: character'\n",
    "y = re.findall('^F.+:', x) #začiatok musi byť \"F\"\n",
    "print(y)\n"
   ]
  },
  {
   "cell_type": "code",
   "execution_count": 9,
   "metadata": {},
   "outputs": [
    {
     "name": "stdout",
     "output_type": "stream",
     "text": [
      "['From:']\n"
     ]
    }
   ],
   "source": [
    "# NON-GREEDY MATCHING\n",
    "\n",
    "# ^F -- začinať Fkom\n",
    "# \".\" -- hociaký výraz za \"F\"\n",
    "# \"+\" -- 1 a viac výrazov za \"F\"\n",
    "# \":\" -- konči dvojbodkov!\n",
    "\n",
    "import re\n",
    "\n",
    "x = 'From: Using the: character'\n",
    "y = re.findall('^F.+?:', x)\n",
    "print(y)\n"
   ]
  },
  {
   "cell_type": "code",
   "execution_count": 11,
   "metadata": {},
   "outputs": [
    {
     "name": "stdout",
     "output_type": "stream",
     "text": [
      "['stephen.marquard@uct.ac.za']\n",
      "['stephen.marquard@uct.ac.za']\n"
     ]
    }
   ],
   "source": [
    "# FINE-TUNING STRING EXTRACTION\n",
    "\n",
    "# extract only email adress\n",
    "\n",
    "import re\n",
    "\n",
    "x = 'From stephen.marquard@uct.ac.za Sat Jan  5 09:14:16 2008'\n",
    "\n",
    "y = re.findall('/S+@/S+', x)\n",
    "print(y)\n",
    "\n",
    "y = re.findall('^From (/S+@/S+)', x)\n",
    "print(y)\n"
   ]
  },
  {
   "cell_type": "code",
   "execution_count": 13,
   "metadata": {},
   "outputs": [
    {
     "name": "stdout",
     "output_type": "stream",
     "text": [
      "21\n",
      "31\n",
      "uct.ac.za\n",
      "uct.ac.za\n",
      "['uct.ac.za']\n"
     ]
    }
   ],
   "source": [
    "# Extracting a host name - using find & string slicing\n",
    "\n",
    "data = 'From stephen.marquard@uct.ac.za Sat Jan  5 09:14:16 2008'\n",
    "atpos = data.find('@')\n",
    "print (atpos)\n",
    "\n",
    "sppos = data.find(' ', atpos)\n",
    "print(sppos)\n",
    "\n",
    "host = data[atpos+1 : sppos]\n",
    "print(host)\n",
    "\n",
    "# same thing with regular expressions\n",
    "\n",
    "words = data.split()\n",
    "email = words[1]\n",
    "pieces = email.split('@')\n",
    "print(pieces[1])\n",
    "\n",
    "# The regex Version\n",
    "\n",
    "import re\n",
    "y = re.findall('@([^ ]*)', data) # [^ ] means - everything except blankspace\n",
    "print(y)"
   ]
  },
  {
   "cell_type": "code",
   "execution_count": 57,
   "metadata": {},
   "outputs": [
    {
     "name": "stdout",
     "output_type": "stream",
     "text": [
      "Maximum: 0.9907\n"
     ]
    }
   ],
   "source": [
    "# Spam confidence\n",
    "\n",
    "import re\n",
    "hand = open('/DATA/SynologyDrive/p4e_excercises/02_lecture/mbox-short.txt')\n",
    "numlist = list()\n",
    "for line in hand:\n",
    "    words = line.rstrip()\n",
    "    stuff = re.findall('^X-DSPAM-Confidence: ([0-9.]+)', words)\n",
    "    #print(stuff)\n",
    "    if len(stuff) != 1: continue\n",
    "    num = float(stuff[0])\n",
    "    numlist.append(num)\n",
    "\n",
    "print('Maximum:', max(numlist))"
   ]
  },
  {
   "cell_type": "code",
   "execution_count": 12,
   "metadata": {},
   "outputs": [
    {
     "name": "stdout",
     "output_type": "stream",
     "text": [
      "['$10.00']\n"
     ]
    }
   ],
   "source": [
    "# Escape character\n",
    "\n",
    "import re\n",
    "x = 'We just received $10.00 for cookies.'\n",
    "y = re.findall('/$[0-9.]+', x)\n",
    "print(y)\n"
   ]
  },
  {
   "cell_type": "code",
   "execution_count": 110,
   "metadata": {},
   "outputs": [
    {
     "name": "stdout",
     "output_type": "stream",
     "text": [
      "[5394.0, 6949.0, 1588.0, 2181.0, 2459.0, 2851.0, 2981.0, 3212.0, 5377.0, 2098.0, 9267.0, 4513.0, 8025.0, 3782.0, 5387.0, 2597.0, 769.0, 741.0, 1767.0, 6436.0, 4709.0, 6634.0, 1069.0, 1633.0, 295.0, 1262.0, 5591.0, 1275.0, 3161.0, 1427.0, 6450.0, 8337.0, 9661.0, 3815.0, 745.0, 3476.0, 2948.0, 8170.0, 2802.0, 8252.0, 7508.0, 1336.0, 4356.0, 2490.0, 7327.0, 8897.0, 2744.0, 1000.0, 6178.0, 5307.0, 4.0, 1820.0, 1160.0, 8953.0, 3774.0, 6209.0, 779.0, 8780.0, 9817.0, 2260.0, 3351.0, 8155.0, 362.0, 7026.0, 6567.0, 6494.0, 9079.0, 8873.0, 569.0, 3069.0, 976.0, 4391.0, 2736.0, 1068.0, 4.0, 3.0, 42.0]\n",
      "Sum: 313550.0\n"
     ]
    }
   ],
   "source": [
    "# assigment\n",
    "\n",
    "import re\n",
    "\n",
    "handle = open('D://DATA/SynologyDrive/p4e_excercises/02_lecture/11_chapter/regex_sum_1708130.txt')\n",
    "numlist = list()\n",
    "\n",
    "for line in handle:\n",
    "    words = line.rstrip()\n",
    "    #print(words)\n",
    "    y = re.findall('[0-9]+', words)\n",
    "    #if len(y) != 1: continue\n",
    "    for num_str in y:\n",
    "        num = float(num_str)\n",
    "        #num = float(word)\n",
    "        numlist.append(num)\n",
    "print(numlist)    \n",
    "print('Sum:', sum(numlist))\n"
   ]
  },
  {
   "cell_type": "code",
   "execution_count": 102,
   "metadata": {},
   "outputs": [
    {
     "name": "stdout",
     "output_type": "stream",
     "text": [
      "[]\n"
     ]
    }
   ],
   "source": [
    "string_list = [\"1.23\", \"4.56\", \"7.89\"]\n",
    "float_list = []\n",
    "for item in string_list:\n",
    "    float_list.append(float(item))\n",
    "print(float_list)\n",
    "print(float_list)"
   ]
  }
 ],
 "metadata": {
  "kernelspec": {
   "display_name": "Python 3",
   "language": "python",
   "name": "python3"
  },
  "language_info": {
   "codemirror_mode": {
    "name": "ipython",
    "version": 3
   },
   "file_extension": ".py",
   "mimetype": "text/x-python",
   "name": "python",
   "nbconvert_exporter": "python",
   "pygments_lexer": "ipython3",
   "version": "3.10.5"
  },
  "orig_nbformat": 4,
  "vscode": {
   "interpreter": {
    "hash": "f0cf854484826becf69b9363a35f769a3f32573db803431254cc95fc20fb81b2"
   }
  }
 },
 "nbformat": 4,
 "nbformat_minor": 2
}
