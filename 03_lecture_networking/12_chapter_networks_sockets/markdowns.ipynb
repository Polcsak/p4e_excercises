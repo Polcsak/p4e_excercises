{
 "cells": [
  {
   "attachments": {},
   "cell_type": "markdown",
   "metadata": {},
   "source": [
    "**Layered architecture, which represents connection over the internet.**\n",
    "\n",
    "In TCP (Transport Control Protocol - most used 99% protocol over the world), the \"stack\" refers to the set of protocols and layers involved in establishing and maintaining a reliable connection between two devices.\n",
    "\n",
    "Here is an overview of the stack connections in TCP: (**Each layer must also communicate between next layers!!**)\n",
    "\n",
    "1. Application Layer (**last layer**): The application layer represents the interface between the user and the network, and is responsible for communication between applications. (creating packets to recieve/send packets)\n",
    "\n",
    "--------------------------------------------------------------------------------------------------------------------\n",
    "2. Transport Layer: The transport layer provides reliable end-to-end communication between applications, by using mechanisms such as flow control, error detection and correction, and retransmission of lost packets. TCP is the main protocol used at this layer. (IP adress: 10.0.0.5:**5001** - is TCP protocol for transport layer). Basic port is 80 (HTTP & HTTPS is secured port 81)\n",
    "\n",
    "3. Network Layer: The network layer is responsible for routing packets between devices on the same network or different networks. IP (Internet Protocol) is the main protocol used at this layer. (**transmitt packets**)\n",
    "--------------------------------------------------------------------------------------------------------------------\n",
    "4. Data Link Layer: The data link layer is responsible for error-free transmission of data frames between adjacent network devices. This layer adds physical addressing (such as MAC addresses) and provides error detection and correction.\n",
    "\n",
    "5. Physical Layer: The physical layer is responsible for the actual transmission of data bits over a physical communication channel, such as a copper cable or a wireless link. (**LAN cables, wifi etc**)\n",
    "\n",
    "These layers work together to provide reliable end-to-end communication over a network."
   ]
  },
  {
   "attachments": {},
   "cell_type": "markdown",
   "metadata": {},
   "source": [
    "**Sockets vs packets**\n",
    "\n",
    "In other words, packets are the individual units of data that are transmitted over a network, while sockets provide the interface for applications to send and receive those packets. Sockets provide a way for applications to send and receive packets, by establishing a virtual connection between two endpoints, and abstracting away the details of the underlying network and transport protocols."
   ]
  },
  {
   "attachments": {},
   "cell_type": "markdown",
   "metadata": {},
   "source": [
    "**What is a Protocol?**\n",
    "\n",
    "- A set of rules that all parties follow so we can predict each other´s behavior\n",
    "- And not bump to each other:\n",
    "    1. on two-way roads in USA, drive on the right-hand side of the road\n",
    "    2. on two-way roads in UK, drive on the left-hand side of the road\n",
    "\n",
    "HTTP standardize was protocol of Uniform Resource Locators (*URL*)\n",
    "\n",
    "Example:\n",
    "    http:// (*protocol*) www.dr-chuck.com (*host or URL adress*) /page1.htm (*document*)\n",
    "\n",
    "\n",
    "\n",
    "\n"
   ]
  },
  {
   "attachments": {},
   "cell_type": "markdown",
   "metadata": {},
   "source": [
    "**HTTP - Hypertext transfer protocol**\n",
    "\n",
    "The dominant Application Layer Protocol on the internet\n",
    "Invented for the Web - to retrieve HTML, Image, Documents, etc\n",
    "#-------------------------------------------------------------------\n",
    "Basic concept of HTTP \n",
    "Make a connection -> Request a document -> Retrieve the document -> Close the connection\n",
    "#-------------------------------------------------------------------\n",
    "\n",
    "\n"
   ]
  }
 ],
 "metadata": {
  "kernelspec": {
   "display_name": "Python 3",
   "language": "python",
   "name": "python3"
  },
  "language_info": {
   "name": "python",
   "version": "3.10.5"
  },
  "orig_nbformat": 4,
  "vscode": {
   "interpreter": {
    "hash": "f0cf854484826becf69b9363a35f769a3f32573db803431254cc95fc20fb81b2"
   }
  }
 },
 "nbformat": 4,
 "nbformat_minor": 2
}
