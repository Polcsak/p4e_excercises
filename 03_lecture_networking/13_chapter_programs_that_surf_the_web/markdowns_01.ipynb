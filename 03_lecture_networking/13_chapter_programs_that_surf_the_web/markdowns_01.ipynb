{
 "cells": [
  {
   "attachments": {},
   "cell_type": "markdown",
   "metadata": {},
   "source": [
    "Parsing = analýza webovej stránky\n",
    "\n",
    "What is Web Scraping?\n",
    "\n",
    "- When a program or script pretends to be a browser and retrieves web pages, looks at those web pages, extracts info, and then looks at more web pages.\n",
    "\n",
    "- Search engines scrape web pages - we call this \"spidering the web\" or \"web crawling\"."
   ]
  },
  {
   "attachments": {},
   "cell_type": "markdown",
   "metadata": {},
   "source": [
    "**Why scrape?**\n",
    "\n",
    "- pull data - particularly social data - who links to who?\n",
    "- get your own data back out of some system that has no \"export capability\"\n",
    "- Monitor a site for new information\n",
    "- spider the web to make a database for a search engine\n"
   ]
  },
  {
   "attachments": {},
   "cell_type": "markdown",
   "metadata": {},
   "source": [
    "**Scraping WebPages**\n",
    "\n",
    "- There is some controvery about web page scraping and some sites are a bit snippy about it\n",
    "- Republishing copyrighted information is not allowed\n",
    "- Violating terms of service is not allowed (porušenie zmluvných podmienok)"
   ]
  },
  {
   "attachments": {},
   "cell_type": "markdown",
   "metadata": {},
   "source": [
    "**The easy way - Beautiful Soup**\n",
    "\n",
    "- You could do string searches the hard way\n",
    "- or use the free software library called **beautifulSoup** from www.crummy.com\n"
   ]
  },
  {
   "cell_type": "code",
   "execution_count": 2,
   "metadata": {},
   "outputs": [
    {
     "name": "stdout",
     "output_type": "stream",
     "text": [
      "http://www.dr-chuck.com/page2.htm\n"
     ]
    }
   ],
   "source": [
    "\n",
    "import urllib.request\n",
    "import urllib.parse\n",
    "import urllib.error\n",
    "from bs4 import BeautifulSoup\n",
    "\n",
    "url = input('Enter - ')\n",
    "html = urllib.request.urlopen(url).read()\n",
    "soup = BeautifulSoup(html, 'html.parser')\n",
    "\n",
    "# Retrieve all of the anchor tags\n",
    "tags = soup('a')\n",
    "for tag  in tags:\n",
    "    print(tag.get('href', None))\n",
    "\n",
    "\n"
   ]
  },
  {
   "attachments": {},
   "cell_type": "markdown",
   "metadata": {},
   "source": [
    "**Summary**\n",
    "\n",
    "- The TCP/IP gives us pipes / sockets between aplications\n",
    "- We designed application protocols to make use of thesee pipes\n",
    "- HyperText Transfer Protocol (HTTP) is a simple yet poweful protocol\n",
    "- Python has good support for sockets, HTTP, and HTML parsing"
   ]
  },
  {
   "cell_type": "code",
   "execution_count": null,
   "metadata": {},
   "outputs": [],
   "source": []
  }
 ],
 "metadata": {
  "kernelspec": {
   "display_name": "base",
   "language": "python",
   "name": "python3"
  },
  "language_info": {
   "codemirror_mode": {
    "name": "ipython",
    "version": 3
   },
   "file_extension": ".py",
   "mimetype": "text/x-python",
   "name": "python",
   "nbconvert_exporter": "python",
   "pygments_lexer": "ipython3",
   "version": "3.9.16"
  },
  "orig_nbformat": 4,
  "vscode": {
   "interpreter": {
    "hash": "0d23164dccc46cd58776d6c42b6e08520d8e560835c24fb22e35df0b0152d5ce"
   }
  }
 },
 "nbformat": 4,
 "nbformat_minor": 2
}
