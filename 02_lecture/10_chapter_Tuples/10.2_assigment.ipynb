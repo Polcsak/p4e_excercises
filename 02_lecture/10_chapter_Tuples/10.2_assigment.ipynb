{
 "cells": [
  {
   "attachments": {},
   "cell_type": "markdown",
   "metadata": {},
   "source": [
    "10.2 Write a program to read through the mbox-short.txt and figure out the distribution by hour of the day for each of the messages. You can pull the hour out from the 'From ' line by finding the time and then splitting the string a second time using a colon.\n",
    "\n",
    "From stephen.marquard@uct.ac.za Sat Jan  5 09:14:16 2008\n",
    "\n",
    "Once you have accumulated the counts for each hour, print out the counts, sorted by hour as shown below."
   ]
  },
  {
   "cell_type": "code",
   "execution_count": null,
   "metadata": {},
   "outputs": [],
   "source": [
    "# for cycle for separation of lines/words\n",
    "\n",
    "handle = open('/DATA/SynologyDrive/p4e_excercises/02_lecture/mbox-short.txt')\n",
    "di = dict() # create empty dictionary to save extracted  words from \"mbox-short.txt\"\n",
    "\n",
    "for line in handle:\n",
    "    line=line.rstrip()\n",
    "    words = line.split() # odsplituje slova vo vete\n",
    "    #for word in words:\n",
    "    if len(words) < 3 or words[0] != 'From': # ak je slovo dlžka slova kratšia ako 3 alebo sa slovo !=0 tak pokračuj\n",
    "        continue\n",
    "    else:\n",
    "        word = words[5]\n",
    "        letters = word[0:2]\n",
    "        di[letters] = di.get(letters,0) + 1 # sčitanie rovnakých hodín (napr. 9 x 11hod)\n",
    "\n",
    "lst = list()\n",
    "for value, count in di.items():\n",
    "    lst.append((value,count))\n",
    "# lst = sorted(lst, reverse=False)\n",
    "lst.sort(reverse=False)\n",
    "\n",
    "for value, count in lst:\n",
    "    print(value, count)\n",
    "\n"
   ]
  },
  {
   "attachments": {},
   "cell_type": "markdown",
   "metadata": {},
   "source": [
    "Second variannt"
   ]
  },
  {
   "cell_type": "code",
   "execution_count": null,
   "metadata": {},
   "outputs": [],
   "source": [
    "handle = open('/DATA/SynologyDrive/p4e_excercises/02_lecture/mbox-short.txt')\n",
    "di = dict() # create empty dictionary to save extracted  words from \"mbox-short.txt\"\n",
    "\n",
    "for line in handle:\n",
    "    line = line.rstrip()\n",
    "    if not line.startswith('From '):\n",
    "        continue\n",
    "    else:\n",
    "        line = line.split()\n",
    "        line = line[5]\n",
    "        words = line[0:2]\n",
    "        di[words] = di.get(words,0) + 1\n",
    "        #print (words)\n",
    "\n",
    "lst = list()\n",
    "for value, count in di.items():\n",
    "    lst.append((value,count))\n",
    "# lst = sorted(lst, reverse=False)\n",
    "lst.sort(reverse=False)\n",
    "\n",
    "for value, count in lst:\n",
    "    print(value, count)\n"
   ]
  },
  {
   "cell_type": "code",
   "execution_count": null,
   "metadata": {},
   "outputs": [],
   "source": [
    "handle = open('/DATA/SynologyDrive/p4e_excercises/02_lecture/mbox-short.txt')\n",
    "di = dict() # create empty dictionary to save extracted  words from \"mbox-short.txt\"\n",
    "\n",
    "for line in handle:\n",
    "    line = line.rstrip()\n",
    "    if not line.startswith('From '):\n",
    "        continue\n",
    "    else:\n",
    "        line = line.split()\n",
    "        line = line[5]\n",
    "        words = line[0:2]\n",
    "        di[words] = di.get(words,0) + 1\n",
    "        #print (words)\n",
    "\n",
    "lst = list()\n",
    "for value, count in di.items():\n",
    "    lst.append((count,value))\n",
    "# lst = sorted(lst, reverse=False)\n",
    "lst.sort(reverse=True)\n",
    "\n",
    "for count, value in lst:\n",
    "    print(count, value)\n"
   ]
  }
 ],
 "metadata": {
  "kernelspec": {
   "display_name": "Python 3",
   "language": "python",
   "name": "python3"
  },
  "language_info": {
   "codemirror_mode": {
    "name": "ipython",
    "version": 3
   },
   "file_extension": ".py",
   "mimetype": "text/x-python",
   "name": "python",
   "nbconvert_exporter": "python",
   "pygments_lexer": "ipython3",
   "version": "3.10.5"
  },
  "orig_nbformat": 4,
  "vscode": {
   "interpreter": {
    "hash": "f0cf854484826becf69b9363a35f769a3f32573db803431254cc95fc20fb81b2"
   }
  }
 },
 "nbformat": 4,
 "nbformat_minor": 2
}
