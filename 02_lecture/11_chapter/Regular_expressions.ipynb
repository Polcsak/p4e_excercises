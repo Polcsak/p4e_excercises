{
 "cells": [
  {
   "cell_type": "code",
   "execution_count": null,
   "metadata": {},
   "outputs": [],
   "source": [
    "# wild card for programmers!!\n",
    "\n",
    "# *search \"From\" in line instead of line.find*\n",
    "\n",
    "hand = open('/DATA/SynologyDrive/p4e_excercises/02_lecture/mbox-short.txt')\n",
    "for line in hand:\n",
    "    line = line.rstrip()\n",
    "    if line.find('From:') >= 0:\n",
    "        print(line)\n",
    "\n",
    "print('In comparison with...')\n",
    "\n",
    "import re\n",
    "\n",
    "hand = open('/DATA/SynologyDrive/p4e_excercises/02_lecture/mbox-short.txt')\n",
    "for line in hand:\n",
    "    line = line.rstrip()\n",
    "    if re.search('From:', line):\n",
    "        print(line)\n"
   ]
  },
  {
   "cell_type": "code",
   "execution_count": null,
   "metadata": {},
   "outputs": [],
   "source": [
    "# Instead of startswith() we use \"^\"\n",
    "\n",
    "hand = open('/DATA/SynologyDrive/p4e_excercises/02_lecture/mbox-short.txt')\n",
    "for line in hand:\n",
    "    line = line.rstrip()\n",
    "    if line.startswith('From:'):\n",
    "        print(line)\n",
    "\n",
    "print('In comparison with...')\n",
    "\n",
    "import re\n",
    "\n",
    "hand = open('/DATA/SynologyDrive/p4e_excercises/02_lecture/mbox-short.txt')\n",
    "for line in hand:\n",
    "    line = line.rstrip()\n",
    "    if re.search('^From:', line):\n",
    "        print(line)"
   ]
  },
  {
   "cell_type": "code",
   "execution_count": 2,
   "metadata": {},
   "outputs": [
    {
     "ename": "NameError",
     "evalue": "name 're' is not defined",
     "output_type": "error",
     "traceback": [
      "\u001b[1;31m---------------------------------------------------------------------------\u001b[0m",
      "\u001b[1;31mNameError\u001b[0m                                 Traceback (most recent call last)",
      "Cell \u001b[1;32mIn[2], line 9\u001b[0m\n\u001b[0;32m      7\u001b[0m \u001b[39mfor\u001b[39;00m line \u001b[39min\u001b[39;00m hand:\n\u001b[0;32m      8\u001b[0m     line \u001b[39m=\u001b[39m line\u001b[39m.\u001b[39mrstrip()\n\u001b[1;32m----> 9\u001b[0m     \u001b[39mif\u001b[39;00m re\u001b[39m.\u001b[39msearch(\u001b[39m'\u001b[39m\u001b[39m^X.*\u001b[39m\u001b[39m'\u001b[39m, line):\n\u001b[0;32m     10\u001b[0m         \u001b[39mprint\u001b[39m(line)\n",
      "\u001b[1;31mNameError\u001b[0m: name 're' is not defined"
     ]
    }
   ],
   "source": [
    "# Dot character matches any character\n",
    "# If you add * character, the character is \"any number of times\" (zero or more)\n",
    "\n",
    "#Example: looking for line which starts with X (^), followed by any number (*) of any characters (.) and ends with \":\"\n",
    "\n",
    "hand = open('/DATA/SynologyDrive/p4e_excercises/02_lecture/mbox-short.txt')\n",
    "for line in hand:\n",
    "    line = line.rstrip()\n",
    "    if re.search('^X.*', line):\n",
    "        print(line)\n"
   ]
  },
  {
   "cell_type": "code",
   "execution_count": 1,
   "metadata": {},
   "outputs": [
    {
     "ename": "NameError",
     "evalue": "name 're' is not defined",
     "output_type": "error",
     "traceback": [
      "\u001b[1;31m---------------------------------------------------------------------------\u001b[0m",
      "\u001b[1;31mNameError\u001b[0m                                 Traceback (most recent call last)",
      "Cell \u001b[1;32mIn[1], line 6\u001b[0m\n\u001b[0;32m      4\u001b[0m \u001b[39mfor\u001b[39;00m line \u001b[39min\u001b[39;00m hand:\n\u001b[0;32m      5\u001b[0m     line \u001b[39m=\u001b[39m line\u001b[39m.\u001b[39mrstrip()\n\u001b[1;32m----> 6\u001b[0m     \u001b[39mif\u001b[39;00m re\u001b[39m.\u001b[39msearch(\u001b[39m'\u001b[39m\u001b[39m^X-\u001b[39m\u001b[39m\\\u001b[39m\u001b[39mS+:\u001b[39m\u001b[39m'\u001b[39m, line):\n\u001b[0;32m      7\u001b[0m         \u001b[39mprint\u001b[39m(line)\n",
      "\u001b[1;31mNameError\u001b[0m: name 're' is not defined"
     ]
    }
   ],
   "source": [
    "#Starts with \"X\"; followed by dash; followed by any non-whitespace character; one or more times till \"colon :\"\n",
    "\n",
    "hand = open('/DATA/SynologyDrive/p4e_excercises/02_lecture/mbox-short.txt')\n",
    "for line in hand:\n",
    "    line = line.rstrip()\n",
    "    if re.search('^X-\\S+:', line):\n",
    "        print(line)"
   ]
  }
 ],
 "metadata": {
  "kernelspec": {
   "display_name": "Python 3",
   "language": "python",
   "name": "python3"
  },
  "language_info": {
   "codemirror_mode": {
    "name": "ipython",
    "version": 3
   },
   "file_extension": ".py",
   "mimetype": "text/x-python",
   "name": "python",
   "nbconvert_exporter": "python",
   "pygments_lexer": "ipython3",
   "version": "3.10.5"
  },
  "orig_nbformat": 4,
  "vscode": {
   "interpreter": {
    "hash": "f0cf854484826becf69b9363a35f769a3f32573db803431254cc95fc20fb81b2"
   }
  }
 },
 "nbformat": 4,
 "nbformat_minor": 2
}
