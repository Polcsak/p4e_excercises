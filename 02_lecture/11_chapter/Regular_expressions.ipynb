{
 "cells": [
  {
   "cell_type": "code",
   "execution_count": null,
   "metadata": {},
   "outputs": [],
   "source": [
    "# wild card for programmers!!\n",
    "\n",
    "# *search \"From\" in line instead of line.find*\n",
    "\n",
    "hand = open('/DATA/SynologyDrive/p4e_excercises/02_lecture/mbox-short.txt')\n",
    "for line in hand:\n",
    "    line = line.rstrip()\n",
    "    if line.find('From:') >= 0:\n",
    "        print(line)\n",
    "\n",
    "print('In comparison with...')\n",
    "\n",
    "import re\n",
    "\n",
    "hand = open('/DATA/SynologyDrive/p4e_excercises/02_lecture/mbox-short.txt')\n",
    "for line in hand:\n",
    "    line = line.rstrip()\n",
    "    if re.search('From:', line):\n",
    "        print(line)\n"
   ]
  },
  {
   "cell_type": "code",
   "execution_count": null,
   "metadata": {},
   "outputs": [],
   "source": [
    "# Instead of startswith() we use \"^\"\n",
    "\n",
    "hand = open('/DATA/SynologyDrive/p4e_excercises/02_lecture/mbox-short.txt')\n",
    "for line in hand:\n",
    "    line = line.rstrip()\n",
    "    if line.startswith('From:'):\n",
    "        print(line)\n",
    "\n",
    "print('In comparison with...')\n",
    "\n",
    "import re\n",
    "\n",
    "hand = open('/DATA/SynologyDrive/p4e_excercises/02_lecture/mbox-short.txt')\n",
    "for line in hand:\n",
    "    line = line.rstrip()\n",
    "    if re.search('^From:', line):\n",
    "        print(line)"
   ]
  },
  {
   "cell_type": "code",
   "execution_count": null,
   "metadata": {},
   "outputs": [],
   "source": [
    "# Dot character matches any character\n",
    "# If you add * character, the character is \"any number of times\" (zero or more)\n",
    "\n",
    "#Example: looking for line which starts with X (^), followed by any number (*) of any characters (.) and ends with \":\"\n",
    "\n",
    "hand = open('/DATA/SynologyDrive/p4e_excercises/02_lecture/mbox-short.txt')\n",
    "for line in hand:\n",
    "    line = line.rstrip()\n",
    "    if re.search('^X.*', line):\n",
    "        print(line)\n"
   ]
  },
  {
   "cell_type": "code",
   "execution_count": null,
   "metadata": {},
   "outputs": [],
   "source": [
    "#Starts with \"X\"; followed by dash; followed by any non-whitespace character; one or more times till \"colon :\"\n",
    "\n",
    "hand = open('/DATA/SynologyDrive/p4e_excercises/02_lecture/mbox-short.txt')\n",
    "for line in hand:\n",
    "    line = line.rstrip()\n",
    "    if re.search('^X-\\S+:', line):\n",
    "        print(line)"
   ]
  }
 ],
 "metadata": {
  "kernelspec": {
   "display_name": "Python 3",
   "language": "python",
   "name": "python3"
  },
  "language_info": {
   "codemirror_mode": {
    "name": "ipython",
    "version": 3
   },
   "file_extension": ".py",
   "mimetype": "text/x-python",
   "name": "python",
   "nbconvert_exporter": "python",
   "pygments_lexer": "ipython3",
   "version": "3.10.5 (tags/v3.10.5:f377153, Jun  6 2022, 16:14:13) [MSC v.1929 64 bit (AMD64)]"
  },
  "orig_nbformat": 4,
  "vscode": {
   "interpreter": {
    "hash": "f0cf854484826becf69b9363a35f769a3f32573db803431254cc95fc20fb81b2"
   }
  }
 },
 "nbformat": 4,
 "nbformat_minor": 2
}
