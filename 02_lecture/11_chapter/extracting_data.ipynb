{
 "cells": [
  {
   "cell_type": "code",
   "execution_count": 1,
   "metadata": {},
   "outputs": [
    {
     "name": "stdout",
     "output_type": "stream",
     "text": [
      "['2', '19', '42']\n"
     ]
    }
   ],
   "source": [
    "# square brackets\n",
    "\n",
    "import re\n",
    "x = 'My 2 favorite numbers are 19 and 42'\n",
    "y = re.findall('[0-9]+' ,x)\n",
    "print(y)"
   ]
  },
  {
   "cell_type": "code",
   "execution_count": 7,
   "metadata": {},
   "outputs": [
    {
     "name": "stdout",
     "output_type": "stream",
     "text": [
      "['M']\n"
     ]
    }
   ],
   "source": [
    "import re\n",
    "\n",
    "x = 'My 2 favorite numbers are 19 and 42'\n",
    "y = re.findall('[AEIOM]+', x)\n",
    "print(y)\n",
    "\n"
   ]
  },
  {
   "cell_type": "code",
   "execution_count": 8,
   "metadata": {},
   "outputs": [
    {
     "name": "stdout",
     "output_type": "stream",
     "text": [
      "['From: Using the:']\n"
     ]
    }
   ],
   "source": [
    "# Greedy matching\n",
    "\n",
    "# ^F -- začinať Fkom\n",
    "# \".\" -- hociaký výraz za \"F\"\n",
    "# \"+\" -- 1 a viac výrazov za \"F\"\n",
    "# \":\" -- konči dvojbodkov!\n",
    "\n",
    "import re\n",
    "\n",
    "x = 'From: Using the: character'\n",
    "y = re.findall('^F.+:', x) #začiatok musi byť \"F\"\n",
    "print(y)\n"
   ]
  },
  {
   "cell_type": "code",
   "execution_count": 9,
   "metadata": {},
   "outputs": [
    {
     "name": "stdout",
     "output_type": "stream",
     "text": [
      "['From:']\n"
     ]
    }
   ],
   "source": [
    "# NON-GREEDY MATCHING\n",
    "\n",
    "# ^F -- začinať Fkom\n",
    "# \".\" -- hociaký výraz za \"F\"\n",
    "# \"+\" -- 1 a viac výrazov za \"F\"\n",
    "# \":\" -- konči dvojbodkov!\n",
    "\n",
    "import re\n",
    "\n",
    "x = 'From: Using the: character'\n",
    "y = re.findall('^F.+?:', x)\n",
    "print(y)\n"
   ]
  },
  {
   "cell_type": "code",
   "execution_count": 11,
   "metadata": {},
   "outputs": [
    {
     "name": "stdout",
     "output_type": "stream",
     "text": [
      "['stephen.marquard@uct.ac.za']\n",
      "['stephen.marquard@uct.ac.za']\n"
     ]
    }
   ],
   "source": [
    "# FINE-TUNING STRING EXTRACTION\n",
    "\n",
    "# extract only email adress\n",
    "\n",
    "import re\n",
    "\n",
    "x = 'From stephen.marquard@uct.ac.za Sat Jan  5 09:14:16 2008'\n",
    "\n",
    "y = re.findall('\\S+@\\S+', x)\n",
    "print(y)\n",
    "\n",
    "y = re.findall('^From (\\S+@\\S+)', x)\n",
    "print(y)\n"
   ]
  },
  {
   "cell_type": "code",
   "execution_count": null,
   "metadata": {},
   "outputs": [],
   "source": [
    "# The double split pattern\n",
    "\n",
    "\n",
    "words = line.split()\n"
   ]
  }
 ],
 "metadata": {
  "kernelspec": {
   "display_name": "Python 3",
   "language": "python",
   "name": "python3"
  },
  "language_info": {
   "codemirror_mode": {
    "name": "ipython",
    "version": 3
   },
   "file_extension": ".py",
   "mimetype": "text/x-python",
   "name": "python",
   "nbconvert_exporter": "python",
   "pygments_lexer": "ipython3",
   "version": "3.10.5"
  },
  "orig_nbformat": 4,
  "vscode": {
   "interpreter": {
    "hash": "f0cf854484826becf69b9363a35f769a3f32573db803431254cc95fc20fb81b2"
   }
  }
 },
 "nbformat": 4,
 "nbformat_minor": 2
}
